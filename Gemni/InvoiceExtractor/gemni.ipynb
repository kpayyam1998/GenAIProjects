{
 "cells": [
  {
   "cell_type": "code",
   "execution_count": 2,
   "metadata": {},
   "outputs": [
    {
     "data": {
      "text/plain": [
       "True"
      ]
     },
     "execution_count": 2,
     "metadata": {},
     "output_type": "execute_result"
    }
   ],
   "source": [
    "import os\n",
    "import google.generativeai as genai\n",
    "from dotenv import load_dotenv\n",
    "\n",
    "load_dotenv()"
   ]
  },
  {
   "cell_type": "code",
   "execution_count": 3,
   "metadata": {},
   "outputs": [],
   "source": [
    "key=os.getenv(\"GOOGLE_API_KEY\")"
   ]
  },
  {
   "cell_type": "code",
   "execution_count": 4,
   "metadata": {},
   "outputs": [],
   "source": [
    "genai.configure(api_key=key)"
   ]
  },
  {
   "cell_type": "code",
   "execution_count": 9,
   "metadata": {},
   "outputs": [],
   "source": [
    "model=genai.GenerativeModel('models/gemini-pro-vision')"
   ]
  },
  {
   "cell_type": "code",
   "execution_count": 12,
   "metadata": {},
   "outputs": [],
   "source": [
    "res=model.generate_content(\"how to speak english?\")\n"
   ]
  },
  {
   "cell_type": "code",
   "execution_count": 19,
   "metadata": {},
   "outputs": [
    {
     "data": {
      "text/plain": [
       "candidates {\n",
       "  index: 0\n",
       "  content {\n",
       "    parts {\n",
       "      text: \"**Immerse Yourself in the Language:**\\n\\n* **Listen to English:** Tune in to English-language radio stations, podcasts, movies, and TV shows.\\n* **Read in English:** Start with simple books, articles, and online content. Gradually increase the difficulty as you improve.\\n* **Attend English-speaking events:** Join language meetups, attend talks, or volunteer in English-speaking environments.\\n\\n**Practice Regularly:**\\n\\n* **Speak English aloud:** Find a language partner or practice with an online tutor. Focus on pronunciation and fluency.\\n* **Write in English:** Keep a journal, write letters, or practice writing social media updates in English. This helps improve grammar and vocabulary.\\n* **Use language learning apps:** Supplement your practice with apps like Duolingo, Babbel, or Rosetta Stone.\\n\\n**Build Vocabulary and Grammar:**\\n\\n* **Study vocabulary lists:** Focus on learning common words and phrases that you\\'ll encounter in everyday conversations.\\n* **Understand grammar rules:** Learn basic grammar concepts like subject-verb agreement, tenses, and sentence structure.\\n* **Use online resources:** Websites like Grammarly can help you improve your grammar and writing skills.\\n\\n**Focus on Communication:**\\n\\n* **Don\\'t be afraid to make mistakes:** Errors are natural while learning. Use them as opportunities to improve.\\n* **Communicate with native speakers:** Seek out conversations with people who speak English as their first language.\\n* **Focus on understanding:** Pay attention to the context and try to infer meaning when you don\\'t know a specific word or phrase.\\n\\n**Additional Tips:**\\n\\n* **Set realistic goals:** Don\\'t try to become fluent overnight. Break down your language learning into smaller milestones.\\n* **Be patient and persistent:** Learning a language takes time and effort. Don\\'t give up if you don\\'t see immediate results.\\n* **Celebrate your progress:** Acknowledge your accomplishments and reward yourself for your hard work.\\n* **Find a support system:** Surround yourself with people who support your language learning goals.\\n* **Enroll in formal classes or language schools:** This can provide structured learning and access to qualified teachers and resources.\"\n",
       "    }\n",
       "    role: \"model\"\n",
       "  }\n",
       "  finish_reason: STOP\n",
       "  safety_ratings {\n",
       "    category: HARM_CATEGORY_SEXUALLY_EXPLICIT\n",
       "    probability: NEGLIGIBLE\n",
       "  }\n",
       "  safety_ratings {\n",
       "    category: HARM_CATEGORY_HATE_SPEECH\n",
       "    probability: NEGLIGIBLE\n",
       "  }\n",
       "  safety_ratings {\n",
       "    category: HARM_CATEGORY_HARASSMENT\n",
       "    probability: NEGLIGIBLE\n",
       "  }\n",
       "  safety_ratings {\n",
       "    category: HARM_CATEGORY_DANGEROUS_CONTENT\n",
       "    probability: NEGLIGIBLE\n",
       "  }\n",
       "}\n",
       "prompt_feedback {\n",
       "  safety_ratings {\n",
       "    category: HARM_CATEGORY_SEXUALLY_EXPLICIT\n",
       "    probability: NEGLIGIBLE\n",
       "  }\n",
       "  safety_ratings {\n",
       "    category: HARM_CATEGORY_HATE_SPEECH\n",
       "    probability: NEGLIGIBLE\n",
       "  }\n",
       "  safety_ratings {\n",
       "    category: HARM_CATEGORY_HARASSMENT\n",
       "    probability: NEGLIGIBLE\n",
       "  }\n",
       "  safety_ratings {\n",
       "    category: HARM_CATEGORY_DANGEROUS_CONTENT\n",
       "    probability: NEGLIGIBLE\n",
       "  }\n",
       "}"
      ]
     },
     "execution_count": 19,
     "metadata": {},
     "output_type": "execute_result"
    }
   ],
   "source": [
    "res._result[content]"
   ]
  },
  {
   "cell_type": "code",
   "execution_count": 20,
   "metadata": {},
   "outputs": [],
   "source": [
    "img=\"invoice.jpg\"\n",
    "ans=model.generate_content(img)"
   ]
  },
  {
   "cell_type": "code",
   "execution_count": 31,
   "metadata": {},
   "outputs": [
    {
     "data": {
      "text/plain": [
       "response:\n",
       "GenerateContentResponse(\n",
       "    done=True,\n",
       "    iterator=None,\n",
       "    result=glm.GenerateContentResponse({'candidates': [{'content': {'parts': [{'text': '**Invoice**\\n\\n**Customer Information**\\n\\nName: Acme Corporation\\nAddress: 123 Main Street, Anytown, CA 12345\\nContact: Jane Doe\\n\\n**Invoice Number:** INV-0001\\n**Invoice Date:** 2023-03-08\\n\\n**Service Description**\\n\\nWeb Design and Development\\n- Design and development of a new website for Acme Corporation\\n- Includes 10 pages, custom design, and content integration\\n\\n**Quantity** | **Unit Price** | **Total**\\n---|---|---\\n1 | $10,000 | $10,000\\n\\n**Additional Charges**\\n\\nDomain Registration | $100 | $100\\nHosting | $200 | $200\\n\\n**Subtotal:** $10,300\\n\\n**Sales Tax (6%):** $618\\n\\n**Total Amount Due:** $10,918\\n\\n**Terms of Payment**\\n\\n* Payment due within 30 days of invoice date.\\n* Late payment fees may apply.\\n\\n**Notes**\\n\\n* Please remit payment to the following address:\\n  * Acme Corporation\\n  * 123 Main Street, Anytown, CA 12345\\n* Please include the invoice number on your payment.\\n* For any inquiries, please contact accounts@acmecorp.com.\\n\\n**Thank you for your business!**'}], 'role': 'model'}, 'finish_reason': 1, 'index': 0, 'safety_ratings': [{'category': 9, 'probability': 1, 'blocked': False}, {'category': 8, 'probability': 1, 'blocked': False}, {'category': 7, 'probability': 1, 'blocked': False}, {'category': 10, 'probability': 1, 'blocked': False}], 'token_count': 0, 'grounding_attributions': []}], 'prompt_feedback': {'safety_ratings': [{'category': 9, 'probability': 1, 'blocked': False}, {'category': 8, 'probability': 1, 'blocked': False}, {'category': 7, 'probability': 1, 'blocked': False}, {'category': 10, 'probability': 1, 'blocked': False}], 'block_reason': 0}}),\n",
       ")"
      ]
     },
     "execution_count": 31,
     "metadata": {},
     "output_type": "execute_result"
    }
   ],
   "source": [
    "ans"
   ]
  },
  {
   "cell_type": "code",
   "execution_count": null,
   "metadata": {},
   "outputs": [],
   "source": []
  },
  {
   "cell_type": "code",
   "execution_count": 48,
   "metadata": {},
   "outputs": [
    {
     "name": "stdout",
     "output_type": "stream",
     "text": [
      "**Invoice**\n",
      "\n",
      "**Customer Information**\n",
      "\n",
      "Name: Acme Corporation\n",
      "Address: 123 Main Street, Anytown, CA 12345\n",
      "Contact: Jane Doe\n",
      "\n",
      "**Invoice Number:** INV-0001\n",
      "**Invoice Date:** 2023-03-08\n",
      "\n",
      "**Service Description**\n",
      "\n",
      "Web Design and Development\n",
      "- Design and development of a new website for Acme Corporation\n",
      "- Includes 10 pages, custom design, and content integration\n",
      "\n",
      "**Quantity** | **Unit Price** | **Total**\n",
      "---|---|---\n",
      "1 | $10,000 | $10,000\n",
      "\n",
      "**Additional Charges**\n",
      "\n",
      "Domain Registration | $100 | $100\n",
      "Hosting | $200 | $200\n",
      "\n",
      "**Subtotal:** $10,300\n",
      "\n",
      "**Sales Tax (6%):** $618\n",
      "\n",
      "**Total Amount Due:** $10,918\n",
      "\n",
      "**Terms of Payment**\n",
      "\n",
      "* Payment due within 30 days of invoice date.\n",
      "* Late payment fees may apply.\n",
      "\n",
      "**Notes**\n",
      "\n",
      "* Please remit payment to the following address:\n",
      "  * Acme Corporation\n",
      "  * 123 Main Street, Anytown, CA 12345\n",
      "* Please include the invoice number on your payment.\n",
      "* For any inquiries, please contact accounts@acmecorp.com.\n",
      "\n",
      "**Thank you for your business!**\n"
     ]
    }
   ],
   "source": [
    "print(ans.text)"
   ]
  },
  {
   "cell_type": "code",
   "execution_count": null,
   "metadata": {},
   "outputs": [],
   "source": []
  }
 ],
 "metadata": {
  "kernelspec": {
   "display_name": "Python 3",
   "language": "python",
   "name": "python3"
  },
  "language_info": {
   "codemirror_mode": {
    "name": "ipython",
    "version": 3
   },
   "file_extension": ".py",
   "mimetype": "text/x-python",
   "name": "python",
   "nbconvert_exporter": "python",
   "pygments_lexer": "ipython3",
   "version": "3.12.2"
  }
 },
 "nbformat": 4,
 "nbformat_minor": 2
}
