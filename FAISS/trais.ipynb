{
 "cells": [
  {
   "cell_type": "markdown",
   "metadata": {},
   "source": [
    "# Refer this documentation About FAISS\n",
    "\n",
    "https://python.langchain.com/docs/integrations/vectorstores/faiss/"
   ]
  },
  {
   "cell_type": "code",
   "execution_count": null,
   "metadata": {},
   "outputs": [],
   "source": [
    "# Note that you can also install faiss-gpu if you want to use the GPU enabled version"
   ]
  },
  {
   "cell_type": "code",
   "execution_count": 3,
   "metadata": {},
   "outputs": [
    {
     "name": "stdout",
     "output_type": "stream",
     "text": [
      "Requirement already satisfied: langchain-community in c:\\users\\arung\\appdata\\local\\programs\\python\\python312\\lib\\site-packages (0.0.31)\n",
      "Requirement already satisfied: faiss-cpu in c:\\users\\arung\\appdata\\local\\programs\\python\\python312\\lib\\site-packages (1.8.0)\n",
      "Requirement already satisfied: langchain-openai in c:\\users\\arung\\appdata\\local\\programs\\python\\python312\\lib\\site-packages (0.1.1)\n",
      "Requirement already satisfied: tiktoken in c:\\users\\arung\\appdata\\local\\programs\\python\\python312\\lib\\site-packages (0.6.0)\n",
      "Requirement already satisfied: pandas in c:\\users\\arung\\appdata\\local\\programs\\python\\python312\\lib\\site-packages (2.2.1)\n",
      "Requirement already satisfied: PyYAML>=5.3 in c:\\users\\arung\\appdata\\local\\programs\\python\\python312\\lib\\site-packages (from langchain-community) (6.0.1)\n",
      "Requirement already satisfied: SQLAlchemy<3,>=1.4 in c:\\users\\arung\\appdata\\local\\programs\\python\\python312\\lib\\site-packages (from langchain-community) (2.0.28)\n",
      "Requirement already satisfied: aiohttp<4.0.0,>=3.8.3 in c:\\users\\arung\\appdata\\local\\programs\\python\\python312\\lib\\site-packages (from langchain-community) (3.9.3)\n",
      "Requirement already satisfied: dataclasses-json<0.7,>=0.5.7 in c:\\users\\arung\\appdata\\local\\programs\\python\\python312\\lib\\site-packages (from langchain-community) (0.6.4)\n",
      "Requirement already satisfied: langchain-core<0.2.0,>=0.1.37 in c:\\users\\arung\\appdata\\local\\programs\\python\\python312\\lib\\site-packages (from langchain-community) (0.1.40)\n",
      "Requirement already satisfied: langsmith<0.2.0,>=0.1.0 in c:\\users\\arung\\appdata\\local\\programs\\python\\python312\\lib\\site-packages (from langchain-community) (0.1.23)\n",
      "Requirement already satisfied: numpy<2,>=1 in c:\\users\\arung\\appdata\\local\\programs\\python\\python312\\lib\\site-packages (from langchain-community) (1.26.4)\n",
      "Requirement already satisfied: requests<3,>=2 in c:\\users\\arung\\appdata\\local\\programs\\python\\python312\\lib\\site-packages (from langchain-community) (2.31.0)\n",
      "Requirement already satisfied: tenacity<9.0.0,>=8.1.0 in c:\\users\\arung\\appdata\\local\\programs\\python\\python312\\lib\\site-packages (from langchain-community) (8.2.3)\n",
      "Requirement already satisfied: openai<2.0.0,>=1.10.0 in c:\\users\\arung\\appdata\\local\\programs\\python\\python312\\lib\\site-packages (from langchain-openai) (1.13.3)\n",
      "Requirement already satisfied: regex>=2022.1.18 in c:\\users\\arung\\appdata\\local\\programs\\python\\python312\\lib\\site-packages (from tiktoken) (2023.12.25)\n",
      "Requirement already satisfied: python-dateutil>=2.8.2 in c:\\users\\arung\\appdata\\local\\programs\\python\\python312\\lib\\site-packages (from pandas) (2.8.2)\n",
      "Requirement already satisfied: pytz>=2020.1 in c:\\users\\arung\\appdata\\local\\programs\\python\\python312\\lib\\site-packages (from pandas) (2024.1)\n",
      "Requirement already satisfied: tzdata>=2022.7 in c:\\users\\arung\\appdata\\local\\programs\\python\\python312\\lib\\site-packages (from pandas) (2024.1)\n",
      "Requirement already satisfied: aiosignal>=1.1.2 in c:\\users\\arung\\appdata\\local\\programs\\python\\python312\\lib\\site-packages (from aiohttp<4.0.0,>=3.8.3->langchain-community) (1.3.1)\n",
      "Requirement already satisfied: attrs>=17.3.0 in c:\\users\\arung\\appdata\\local\\programs\\python\\python312\\lib\\site-packages (from aiohttp<4.0.0,>=3.8.3->langchain-community) (23.2.0)\n",
      "Requirement already satisfied: frozenlist>=1.1.1 in c:\\users\\arung\\appdata\\local\\programs\\python\\python312\\lib\\site-packages (from aiohttp<4.0.0,>=3.8.3->langchain-community) (1.4.1)\n",
      "Requirement already satisfied: multidict<7.0,>=4.5 in c:\\users\\arung\\appdata\\local\\programs\\python\\python312\\lib\\site-packages (from aiohttp<4.0.0,>=3.8.3->langchain-community) (6.0.5)\n",
      "Requirement already satisfied: yarl<2.0,>=1.0 in c:\\users\\arung\\appdata\\local\\programs\\python\\python312\\lib\\site-packages (from aiohttp<4.0.0,>=3.8.3->langchain-community) (1.9.4)\n",
      "Requirement already satisfied: marshmallow<4.0.0,>=3.18.0 in c:\\users\\arung\\appdata\\local\\programs\\python\\python312\\lib\\site-packages (from dataclasses-json<0.7,>=0.5.7->langchain-community) (3.21.1)\n",
      "Requirement already satisfied: typing-inspect<1,>=0.4.0 in c:\\users\\arung\\appdata\\local\\programs\\python\\python312\\lib\\site-packages (from dataclasses-json<0.7,>=0.5.7->langchain-community) (0.9.0)\n",
      "Requirement already satisfied: jsonpatch<2.0,>=1.33 in c:\\users\\arung\\appdata\\local\\programs\\python\\python312\\lib\\site-packages (from langchain-core<0.2.0,>=0.1.37->langchain-community) (1.33)\n",
      "Requirement already satisfied: packaging<24.0,>=23.2 in c:\\users\\arung\\appdata\\local\\programs\\python\\python312\\lib\\site-packages (from langchain-core<0.2.0,>=0.1.37->langchain-community) (23.2)\n",
      "Requirement already satisfied: pydantic<3,>=1 in c:\\users\\arung\\appdata\\local\\programs\\python\\python312\\lib\\site-packages (from langchain-core<0.2.0,>=0.1.37->langchain-community) (2.6.3)\n",
      "Requirement already satisfied: orjson<4.0.0,>=3.9.14 in c:\\users\\arung\\appdata\\local\\programs\\python\\python312\\lib\\site-packages (from langsmith<0.2.0,>=0.1.0->langchain-community) (3.9.15)\n",
      "Requirement already satisfied: anyio<5,>=3.5.0 in c:\\users\\arung\\appdata\\local\\programs\\python\\python312\\lib\\site-packages (from openai<2.0.0,>=1.10.0->langchain-openai) (4.3.0)\n",
      "Requirement already satisfied: distro<2,>=1.7.0 in c:\\users\\arung\\appdata\\local\\programs\\python\\python312\\lib\\site-packages (from openai<2.0.0,>=1.10.0->langchain-openai) (1.9.0)\n",
      "Requirement already satisfied: httpx<1,>=0.23.0 in c:\\users\\arung\\appdata\\local\\programs\\python\\python312\\lib\\site-packages (from openai<2.0.0,>=1.10.0->langchain-openai) (0.27.0)\n",
      "Requirement already satisfied: sniffio in c:\\users\\arung\\appdata\\local\\programs\\python\\python312\\lib\\site-packages (from openai<2.0.0,>=1.10.0->langchain-openai) (1.3.1)\n",
      "Requirement already satisfied: tqdm>4 in c:\\users\\arung\\appdata\\local\\programs\\python\\python312\\lib\\site-packages (from openai<2.0.0,>=1.10.0->langchain-openai) (4.66.2)\n",
      "Requirement already satisfied: typing-extensions<5,>=4.7 in c:\\users\\arung\\appdata\\local\\programs\\python\\python312\\lib\\site-packages (from openai<2.0.0,>=1.10.0->langchain-openai) (4.10.0)\n",
      "Requirement already satisfied: six>=1.5 in c:\\users\\arung\\appdata\\local\\programs\\python\\python312\\lib\\site-packages (from python-dateutil>=2.8.2->pandas) (1.16.0)\n",
      "Requirement already satisfied: charset-normalizer<4,>=2 in c:\\users\\arung\\appdata\\local\\programs\\python\\python312\\lib\\site-packages (from requests<3,>=2->langchain-community) (3.3.2)\n",
      "Requirement already satisfied: idna<4,>=2.5 in c:\\users\\arung\\appdata\\local\\programs\\python\\python312\\lib\\site-packages (from requests<3,>=2->langchain-community) (3.6)\n",
      "Requirement already satisfied: urllib3<3,>=1.21.1 in c:\\users\\arung\\appdata\\local\\programs\\python\\python312\\lib\\site-packages (from requests<3,>=2->langchain-community) (2.2.1)\n",
      "Requirement already satisfied: certifi>=2017.4.17 in c:\\users\\arung\\appdata\\local\\programs\\python\\python312\\lib\\site-packages (from requests<3,>=2->langchain-community) (2024.2.2)\n",
      "Requirement already satisfied: greenlet!=0.4.17 in c:\\users\\arung\\appdata\\local\\programs\\python\\python312\\lib\\site-packages (from SQLAlchemy<3,>=1.4->langchain-community) (3.0.3)\n",
      "Requirement already satisfied: httpcore==1.* in c:\\users\\arung\\appdata\\local\\programs\\python\\python312\\lib\\site-packages (from httpx<1,>=0.23.0->openai<2.0.0,>=1.10.0->langchain-openai) (1.0.4)\n",
      "Requirement already satisfied: h11<0.15,>=0.13 in c:\\users\\arung\\appdata\\local\\programs\\python\\python312\\lib\\site-packages (from httpcore==1.*->httpx<1,>=0.23.0->openai<2.0.0,>=1.10.0->langchain-openai) (0.14.0)\n",
      "Requirement already satisfied: jsonpointer>=1.9 in c:\\users\\arung\\appdata\\local\\programs\\python\\python312\\lib\\site-packages (from jsonpatch<2.0,>=1.33->langchain-core<0.2.0,>=0.1.37->langchain-community) (2.4)\n",
      "Requirement already satisfied: annotated-types>=0.4.0 in c:\\users\\arung\\appdata\\local\\programs\\python\\python312\\lib\\site-packages (from pydantic<3,>=1->langchain-core<0.2.0,>=0.1.37->langchain-community) (0.6.0)\n",
      "Requirement already satisfied: pydantic-core==2.16.3 in c:\\users\\arung\\appdata\\local\\programs\\python\\python312\\lib\\site-packages (from pydantic<3,>=1->langchain-core<0.2.0,>=0.1.37->langchain-community) (2.16.3)\n",
      "Requirement already satisfied: colorama in c:\\users\\arung\\appdata\\local\\programs\\python\\python312\\lib\\site-packages (from tqdm>4->openai<2.0.0,>=1.10.0->langchain-openai) (0.4.6)\n",
      "Requirement already satisfied: mypy-extensions>=0.3.0 in c:\\users\\arung\\appdata\\local\\programs\\python\\python312\\lib\\site-packages (from typing-inspect<1,>=0.4.0->dataclasses-json<0.7,>=0.5.7->langchain-community) (1.0.0)\n"
     ]
    }
   ],
   "source": [
    "! pip install -U langchain-community faiss-cpu langchain-openai tiktoken pandas \n"
   ]
  },
  {
   "cell_type": "code",
   "execution_count": 8,
   "metadata": {},
   "outputs": [],
   "source": [
    "# Get OpenAI API Key\n",
    "\n",
    "import os\n",
    "\n",
    "OPENAI_API_KEY=os.getenv(\"OPENAI_API_KEY\")\n"
   ]
  },
  {
   "cell_type": "markdown",
   "metadata": {},
   "source": [
    "# Ingestion"
   ]
  },
  {
   "cell_type": "code",
   "execution_count": 27,
   "metadata": {},
   "outputs": [],
   "source": [
    "from langchain_community.document_loaders import TextLoader\n",
    "from langchain_community.vectorstores import FAISS\n",
    "from langchain_community.embeddings import OpenAIEmbeddings\n",
    "from langchain_text_splitters import CharacterTextSplitter\n",
    "\n"
   ]
  },
  {
   "cell_type": "markdown",
   "metadata": {},
   "source": [
    "# Load file\n",
    " \n",
    "https://stackoverflow.com/questions/76600384/unable-to-read-text-data-file-using-textloader-from-langchain-document-loaders-l"
   ]
  },
  {
   "cell_type": "code",
   "execution_count": 39,
   "metadata": {},
   "outputs": [],
   "source": [
    "# Face any error refer above page while Loading Text file as input\n",
    "def Text_Loader(txtfile):\n",
    "    loader=TextLoader(txtfile,encoding='UTF-8')\n",
    "    documents=loader.load()\n",
    "    return documents\n",
    "\n",
    "documents=Text_Loader(\"tamilnadu.txt\")"
   ]
  },
  {
   "cell_type": "markdown",
   "metadata": {},
   "source": [
    "# Create Chunks\n"
   ]
  },
  {
   "cell_type": "code",
   "execution_count": 40,
   "metadata": {},
   "outputs": [
    {
     "name": "stderr",
     "output_type": "stream",
     "text": [
      "Created a chunk of size 1018, which is longer than the specified 1000\n",
      "Created a chunk of size 1225, which is longer than the specified 1000\n",
      "Created a chunk of size 1143, which is longer than the specified 1000\n",
      "Created a chunk of size 1142, which is longer than the specified 1000\n",
      "Created a chunk of size 1010, which is longer than the specified 1000\n",
      "Created a chunk of size 1572, which is longer than the specified 1000\n",
      "Created a chunk of size 1097, which is longer than the specified 1000\n",
      "Created a chunk of size 1663, which is longer than the specified 1000\n",
      "Created a chunk of size 1003, which is longer than the specified 1000\n",
      "Created a chunk of size 1686, which is longer than the specified 1000\n"
     ]
    }
   ],
   "source": [
    "\n",
    "def charater_spliter(documents):\n",
    "    text_spiliter=CharacterTextSplitter(chunk_size=1000,chunk_overlap=0) # Means every 1000 words become one chunk\n",
    "    docs=text_spiliter.split_documents(documents)\n",
    "    return docs\n",
    "\n",
    "docs=charater_spliter(documents)"
   ]
  },
  {
   "cell_type": "code",
   "execution_count": 43,
   "metadata": {},
   "outputs": [],
   "source": [
    "# We have got chuck documents\n"
   ]
  },
  {
   "cell_type": "markdown",
   "metadata": {},
   "source": [
    "# Embeddings"
   ]
  },
  {
   "cell_type": "code",
   "execution_count": 44,
   "metadata": {},
   "outputs": [
    {
     "name": "stderr",
     "output_type": "stream",
     "text": [
      "e:\\Python\\New folder\\AIprojects\\GenAIProjects\\env\\Lib\\site-packages\\langchain_core\\_api\\deprecation.py:117: LangChainDeprecationWarning: The class `langchain_community.embeddings.openai.OpenAIEmbeddings` was deprecated in langchain-community 0.0.9 and will be removed in 0.2.0. An updated version of the class exists in the langchain-openai package and should be used instead. To use it run `pip install -U langchain-openai` and import as `from langchain_openai import OpenAIEmbeddings`.\n",
      "  warn_deprecated(\n"
     ]
    }
   ],
   "source": [
    "def ai_embeddings():\n",
    "    embeddings=OpenAIEmbeddings()\n",
    "    return embeddings\n",
    "\n",
    "embeddings=ai_embeddings()"
   ]
  },
  {
   "cell_type": "markdown",
   "metadata": {},
   "source": [
    "# Connect with FAISS Vector Database\n",
    "\n",
    "### FAISS which was provoided by facebook"
   ]
  },
  {
   "cell_type": "code",
   "execution_count": 45,
   "metadata": {},
   "outputs": [],
   "source": [
    "db=FAISS.from_documents(docs,embeddings)"
   ]
  },
  {
   "cell_type": "code",
   "execution_count": 49,
   "metadata": {},
   "outputs": [
    {
     "name": "stdout",
     "output_type": "stream",
     "text": [
      "Total length of our document chunk size :32\n",
      "Total no of vector index in FAISS DB:32\n"
     ]
    }
   ],
   "source": [
    "print(f\"Total length of our document chunk size :{len(docs)}\")\n",
    "print(f\"Total no of vector index in FAISS DB:{db.index.ntotal}\")"
   ]
  },
  {
   "cell_type": "markdown",
   "metadata": {},
   "source": [
    "# Query (Retreving data from FAISS Vector DB)"
   ]
  },
  {
   "cell_type": "code",
   "execution_count": 52,
   "metadata": {},
   "outputs": [],
   "source": [
    "query=\"Who build Shore Temple in Mamallapuram and when it was built?\"\n",
    "docs=db.similarity_search(query,k=2)"
   ]
  },
  {
   "cell_type": "code",
   "execution_count": 55,
   "metadata": {},
   "outputs": [
    {
     "name": "stdout",
     "output_type": "stream",
     "text": [
      "Shore Temple in Mamallapuram built by the Pallavas. (c. eighth century CE)\n",
      "The 7th century Tamil Nadu saw the rise of the Pallavas under Mahendravarman I and his son Mamalla Narasimhavarman I. The Pallavas were not a recognised political power before the 2nd century.[58] It has been widely accepted by scholars that they were originally executive officers under the Satavahana kings.[59] After the fall of the Satavahanas, they began to get control over parts of Andhra and the Tamil country. Later they had marital ties with the Vishnukundina who ruled over the Deccan. It was around 550 CE under King Simhavishnu that the Pallavas emerged into prominence. They subjugated the Cholas and reigned as far south as the Kaveri River. The Pallavas were at their finest during the reigns of Narasimhavarman I and Pallavamalla Nandivarman II. Pallavas ruled a large portion of South India with Kanchipuram as their capital. Dravidian architecture during the Pallava rule includes the Shore Temple, built for Narasimhavarman II, which is a UNESCO World Heritage Site. Many sources describe Bodhidharma, the founder of the Zen school of Buddhism in China, as a prince of the Pallava dynasty.[60] Alongside Bodhidharma, another monk, Vajrabodhi is said to have been the son of a Tamil aristocrat, travelled from Tamil Nadu to the Tang capital of Chang'an, via Sri Lanka and Srivijaya, after mastering the art of Tantric Buddhism. He took a plethora of new theological beliefs to a China that was largely following Confucianism or Daoism. Vajrabodhi's contribution to the growth of Tantric Buddhism in China has been recorded by one of his lay disciples, Lü Xiang.[61][11]\n"
     ]
    }
   ],
   "source": [
    "# We got the results\n",
    "print(docs[0].page_content)"
   ]
  },
  {
   "cell_type": "code",
   "execution_count": 56,
   "metadata": {},
   "outputs": [
    {
     "name": "stdout",
     "output_type": "stream",
     "text": [
      "The Hindu sects Saivism and Vaishnavism became dominant, replacing the prevalence of Jainism and Buddhism of the previous era. Saivism was patronised more by the Chola kings and became more or less a state religion.[55] Some of the earliest temples that are still standing were built during this period by the Pallavas. The rock-cut temples in Mamallapuram and the majestic Kailasanatha and Vaikuntaperumal temples of Kanchipuram stand testament to the Pallava art. The Cholas, utilising their prodigious wealth earned through their extensive conquests, built long-lasting stone temples including the great Brihadisvara temple of Thanjavur and exquisite bronze sculptures. Temples dedicated to Siva and Vishnu received liberal donations of money, jewels, animals, and land, and thereby became powerful economic institutions.[56] Mutharaiyar who ruled the central part of Tamil Nadu between 600 - 900 CE. The Cauvery Delta regions were mostly ruled by the Muthraiyar Kings having Woraiyur as their Capital. Vijayalayachola conquered Tanjore from Dhancheya Muhuraiyar King who established the Tanjore City. Among the noted Muthariyar King, Perumbidugu alias Swaran Maran Muthraiyar who conquered consequently 14 battles and known as the Emperor in Tamil Nadu (Perarasar). He and his ancestors built many cave temples in Tiruchirappalli and Pudukottai regions. Among them Kuvavan Sathan alias Videl Vidugu Muthraiyar built many cave temples in Pudukottai Region. Mutharaiyars and ancestors are known as Muthuraja in central of part of Tamil Nadu particularly Tiruchirappalli.\n"
     ]
    }
   ],
   "source": [
    "print(docs[1].page_content)"
   ]
  },
  {
   "cell_type": "markdown",
   "metadata": {},
   "source": [
    "# As Retriever \n",
    "\n",
    "We can also convert vector store into a retriever class.This allows us to easily use it in other LangChain methods, which largely work with retrievers\n",
    "\n"
   ]
  },
  {
   "cell_type": "code",
   "execution_count": 60,
   "metadata": {},
   "outputs": [],
   "source": [
    "retriever=db.as_retriever(search_kwargs={\"k\":2})\n",
    "\n",
    "docs=retriever.invoke(query)"
   ]
  },
  {
   "cell_type": "code",
   "execution_count": 61,
   "metadata": {},
   "outputs": [
    {
     "data": {
      "text/plain": [
       "[Document(page_content=\"Shore Temple in Mamallapuram built by the Pallavas. (c. eighth century CE)\\nThe 7th century Tamil Nadu saw the rise of the Pallavas under Mahendravarman I and his son Mamalla Narasimhavarman I. The Pallavas were not a recognised political power before the 2nd century.[58] It has been widely accepted by scholars that they were originally executive officers under the Satavahana kings.[59] After the fall of the Satavahanas, they began to get control over parts of Andhra and the Tamil country. Later they had marital ties with the Vishnukundina who ruled over the Deccan. It was around 550 CE under King Simhavishnu that the Pallavas emerged into prominence. They subjugated the Cholas and reigned as far south as the Kaveri River. The Pallavas were at their finest during the reigns of Narasimhavarman I and Pallavamalla Nandivarman II. Pallavas ruled a large portion of South India with Kanchipuram as their capital. Dravidian architecture during the Pallava rule includes the Shore Temple, built for Narasimhavarman II, which is a UNESCO World Heritage Site. Many sources describe Bodhidharma, the founder of the Zen school of Buddhism in China, as a prince of the Pallava dynasty.[60] Alongside Bodhidharma, another monk, Vajrabodhi is said to have been the son of a Tamil aristocrat, travelled from Tamil Nadu to the Tang capital of Chang'an, via Sri Lanka and Srivijaya, after mastering the art of Tantric Buddhism. He took a plethora of new theological beliefs to a China that was largely following Confucianism or Daoism. Vajrabodhi's contribution to the growth of Tantric Buddhism in China has been recorded by one of his lay disciples, Lü Xiang.[61][11]\", metadata={'source': 'tamilnadu.txt'}),\n",
       " Document(page_content='The Hindu sects Saivism and Vaishnavism became dominant, replacing the prevalence of Jainism and Buddhism of the previous era. Saivism was patronised more by the Chola kings and became more or less a state religion.[55] Some of the earliest temples that are still standing were built during this period by the Pallavas. The rock-cut temples in Mamallapuram and the majestic Kailasanatha and Vaikuntaperumal temples of Kanchipuram stand testament to the Pallava art. The Cholas, utilising their prodigious wealth earned through their extensive conquests, built long-lasting stone temples including the great Brihadisvara temple of Thanjavur and exquisite bronze sculptures. Temples dedicated to Siva and Vishnu received liberal donations of money, jewels, animals, and land, and thereby became powerful economic institutions.[56] Mutharaiyar who ruled the central part of Tamil Nadu between 600 - 900 CE. The Cauvery Delta regions were mostly ruled by the Muthraiyar Kings having Woraiyur as their Capital. Vijayalayachola conquered Tanjore from Dhancheya Muhuraiyar King who established the Tanjore City. Among the noted Muthariyar King, Perumbidugu alias Swaran Maran Muthraiyar who conquered consequently 14 battles and known as the Emperor in Tamil Nadu (Perarasar). He and his ancestors built many cave temples in Tiruchirappalli and Pudukottai regions. Among them Kuvavan Sathan alias Videl Vidugu Muthraiyar built many cave temples in Pudukottai Region. Mutharaiyars and ancestors are known as Muthuraja in central of part of Tamil Nadu particularly Tiruchirappalli.', metadata={'source': 'tamilnadu.txt'})]"
      ]
     },
     "execution_count": 61,
     "metadata": {},
     "output_type": "execute_result"
    }
   ],
   "source": [
    "docs"
   ]
  },
  {
   "cell_type": "markdown",
   "metadata": {},
   "source": [
    "# Learn more about to refer this page\n",
    "https://python.langchain.com/docs/integrations/vectorstores/faiss/"
   ]
  },
  {
   "cell_type": "code",
   "execution_count": 62,
   "metadata": {},
   "outputs": [],
   "source": [
    "from langchain.chains import RetrievalQA\n",
    "from langchain.prompts import PromptTemplate \n",
    "from langchain.llms import OpenAI\n",
    "\n",
    "\n"
   ]
  },
  {
   "cell_type": "code",
   "execution_count": 65,
   "metadata": {},
   "outputs": [],
   "source": [
    "openai_retriever=RetrievalQA.from_chain_type(llm=OpenAI(),chain_type=\"stuff\",retriever=retriever,return_source_documents=True)"
   ]
  },
  {
   "cell_type": "code",
   "execution_count": 67,
   "metadata": {},
   "outputs": [
    {
     "name": "stderr",
     "output_type": "stream",
     "text": [
      "e:\\Python\\New folder\\AIprojects\\GenAIProjects\\env\\Lib\\site-packages\\langchain_core\\_api\\deprecation.py:117: LangChainDeprecationWarning: The function `__call__` was deprecated in LangChain 0.1.0 and will be removed in 0.2.0. Use invoke instead.\n",
      "  warn_deprecated(\n"
     ]
    },
    {
     "data": {
      "text/plain": [
       "{'query': 'Who build Shore Temple in Mamallapuram and when it was built?',\n",
       " 'result': '\\nThe Shore Temple in Mamallapuram was built by the Pallavas in the eighth century CE.',\n",
       " 'source_documents': [Document(page_content=\"Shore Temple in Mamallapuram built by the Pallavas. (c. eighth century CE)\\nThe 7th century Tamil Nadu saw the rise of the Pallavas under Mahendravarman I and his son Mamalla Narasimhavarman I. The Pallavas were not a recognised political power before the 2nd century.[58] It has been widely accepted by scholars that they were originally executive officers under the Satavahana kings.[59] After the fall of the Satavahanas, they began to get control over parts of Andhra and the Tamil country. Later they had marital ties with the Vishnukundina who ruled over the Deccan. It was around 550 CE under King Simhavishnu that the Pallavas emerged into prominence. They subjugated the Cholas and reigned as far south as the Kaveri River. The Pallavas were at their finest during the reigns of Narasimhavarman I and Pallavamalla Nandivarman II. Pallavas ruled a large portion of South India with Kanchipuram as their capital. Dravidian architecture during the Pallava rule includes the Shore Temple, built for Narasimhavarman II, which is a UNESCO World Heritage Site. Many sources describe Bodhidharma, the founder of the Zen school of Buddhism in China, as a prince of the Pallava dynasty.[60] Alongside Bodhidharma, another monk, Vajrabodhi is said to have been the son of a Tamil aristocrat, travelled from Tamil Nadu to the Tang capital of Chang'an, via Sri Lanka and Srivijaya, after mastering the art of Tantric Buddhism. He took a plethora of new theological beliefs to a China that was largely following Confucianism or Daoism. Vajrabodhi's contribution to the growth of Tantric Buddhism in China has been recorded by one of his lay disciples, Lü Xiang.[61][11]\", metadata={'source': 'tamilnadu.txt'}),\n",
       "  Document(page_content='The Hindu sects Saivism and Vaishnavism became dominant, replacing the prevalence of Jainism and Buddhism of the previous era. Saivism was patronised more by the Chola kings and became more or less a state religion.[55] Some of the earliest temples that are still standing were built during this period by the Pallavas. The rock-cut temples in Mamallapuram and the majestic Kailasanatha and Vaikuntaperumal temples of Kanchipuram stand testament to the Pallava art. The Cholas, utilising their prodigious wealth earned through their extensive conquests, built long-lasting stone temples including the great Brihadisvara temple of Thanjavur and exquisite bronze sculptures. Temples dedicated to Siva and Vishnu received liberal donations of money, jewels, animals, and land, and thereby became powerful economic institutions.[56] Mutharaiyar who ruled the central part of Tamil Nadu between 600 - 900 CE. The Cauvery Delta regions were mostly ruled by the Muthraiyar Kings having Woraiyur as their Capital. Vijayalayachola conquered Tanjore from Dhancheya Muhuraiyar King who established the Tanjore City. Among the noted Muthariyar King, Perumbidugu alias Swaran Maran Muthraiyar who conquered consequently 14 battles and known as the Emperor in Tamil Nadu (Perarasar). He and his ancestors built many cave temples in Tiruchirappalli and Pudukottai regions. Among them Kuvavan Sathan alias Videl Vidugu Muthraiyar built many cave temples in Pudukottai Region. Mutharaiyars and ancestors are known as Muthuraja in central of part of Tamil Nadu particularly Tiruchirappalli.', metadata={'source': 'tamilnadu.txt'})]}"
      ]
     },
     "execution_count": 67,
     "metadata": {},
     "output_type": "execute_result"
    }
   ],
   "source": [
    "openai_retriever({\"query\":query})"
   ]
  },
  {
   "cell_type": "code",
   "execution_count": null,
   "metadata": {},
   "outputs": [],
   "source": [
    "# We are done vector retrieval using FAISS"
   ]
  }
 ],
 "metadata": {
  "kernelspec": {
   "display_name": "Python 3",
   "language": "python",
   "name": "python3"
  },
  "language_info": {
   "codemirror_mode": {
    "name": "ipython",
    "version": 3
   },
   "file_extension": ".py",
   "mimetype": "text/x-python",
   "name": "python",
   "nbconvert_exporter": "python",
   "pygments_lexer": "ipython3",
   "version": "3.12.2"
  }
 },
 "nbformat": 4,
 "nbformat_minor": 2
}
